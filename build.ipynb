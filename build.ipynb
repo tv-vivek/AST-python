{
 "cells": [
  {
   "cell_type": "code",
   "execution_count": 17,
   "metadata": {},
   "outputs": [],
   "source": [
    "import os\n",
    "import shutil\n",
    "import ast\n"
   ]
  },
  {
   "cell_type": "code",
   "execution_count": 18,
   "metadata": {},
   "outputs": [],
   "source": [
    "\n",
    "READ_MODE = 'r'\n",
    "WRITE_MODE = 'w'"
   ]
  },
  {
   "cell_type": "code",
   "execution_count": 20,
   "metadata": {},
   "outputs": [],
   "source": [
    "def process_file(path: str, filename: str) -> tuple:\n",
    "    \"\"\"\n",
    "    Process the given Python source file in the specified path.\n",
    "\n",
    "    Args:\n",
    "        path (str): The path where the source file is located.\n",
    "        filename (str): The name of the source file to process.\n",
    "\n",
    "    Returns:\n",
    "        tuple: A tuple indicating whether the process was successful (bool) and a message (str).\n",
    "    \"\"\"\n",
    "    try:\n",
    "        # Read the content of the source file\n",
    "        with open(os.path.join(path, filename), READ_MODE) as file:\n",
    "            source_code = file.read()\n",
    "\n",
    "        # Parse the source code into an AST\n",
    "        ast_tree = ast.parse(source_code)\n",
    "\n",
    "        # Traverse the AST and modify import statements\n",
    "        for node in ast.walk(ast_tree):\n",
    "            if isinstance(node, ast.ImportFrom):\n",
    "                if node.level > 1:\n",
    "                    # Extract the folder containing the shared module\n",
    "                    shared_module_folder = node.module.split(\".\")[-2] if len(node.module.split(\".\")) > 1 else \"\"\n",
    "\n",
    "                    # Create the folder if it doesn't exist\n",
    "                    shared_module_path = os.path.join(path, shared_module_folder)\n",
    "                    if not os.path.exists(shared_module_path):\n",
    "                        os.mkdir(shared_module_path)\n",
    "\n",
    "                    # Copy the shared module file to the shared module folder\n",
    "                    module_filename = node.module.split(\".\")[-1] + '.py'\n",
    "                    destination_file_path = os.path.join(shared_module_path, module_filename)\n",
    "                    shutil.copyfile(node.module.replace(\".\", os.sep) + \".py\", destination_file_path)\n",
    "                    \n",
    "                    # Update the import level to 1\n",
    "                    node.level = 1\n",
    "\n",
    "        # Generate modified source code from the modified AST\n",
    "        modified_source_code = ast.unparse(ast_tree)\n",
    "\n",
    "        # Write the modified source code back to the file\n",
    "        with open(os.path.join(path, filename), WRITE_MODE) as file:\n",
    "            file.write(modified_source_code)\n",
    "    \n",
    "    except Exception as e:\n",
    "        # Return error message if an exception occurs\n",
    "        return (True, str(e))\n",
    "    \n",
    "    # Return success message if the process completes without errors\n",
    "    return (False, \"Successfully completed!\")\n"
   ]
  },
  {
   "cell_type": "code",
   "execution_count": 27,
   "metadata": {},
   "outputs": [
    {
     "name": "stdout",
     "output_type": "stream",
     "text": [
      "RESULT: ./proj1\\main.py - Successfully completed!\n",
      "RESULT: ./proj1\\utility\\m1.py - Successfully completed!\n",
      "RESULT: ./proj1\\utility\\shared.py - Successfully completed!\n",
      "RESULT: ./proj2\\main.py - Successfully completed!\n",
      "RESULT: ./proj2\\utility\\m1.py - Successfully completed!\n",
      "RESULT: ./proj2\\utility\\shared.py - Successfully completed!\n",
      "RESULT: ./proj3\\main.py - Successfully completed!\n",
      "RESULT: ./proj3\\utility\\m1.py - Successfully completed!\n",
      "RESULT: ./proj3\\utility\\shared.py - Successfully completed!\n",
      "RESULT: ./proj4\\main.py - Successfully completed!\n",
      "RESULT: ./proj4\\utility\\m1.py - Successfully completed!\n",
      "RESULT: ./proj4\\utility\\shared.py - Successfully completed!\n"
     ]
    }
   ],
   "source": [
    "def main():\n",
    "    \"\"\"\n",
    "    Main function to iterate over files in the directory and process each Python file.\n",
    "    \"\"\"\n",
    "    # Iterate over files in the directory and process each Python file\n",
    "    is_error=False\n",
    "    for root, dirs, files in os.walk(\"./\"):\n",
    "        if is_error:\n",
    "            break\n",
    "        for filename in files:\n",
    "            # Skip files not under the 'proj' directory\n",
    "            if not root.startswith(\"./proj\"):\n",
    "                continue\n",
    "\n",
    "            # Process the file and print the result\n",
    "            is_error, result = process_file(root, filename)\n",
    "            if is_error:\n",
    "                print(f\"ERROR: {result}\")\n",
    "                break\n",
    "            else:\n",
    "                print(f\"RESULT: {os.path.join(root, filename)} - {result}\")\n",
    "\n",
    "# Check if the script is executed as the main module\n",
    "if __name__ == \"__main__\":\n",
    "    main()\n",
    "    \n"
   ]
  },
  {
   "cell_type": "code",
   "execution_count": 25,
   "metadata": {},
   "outputs": [],
   "source": []
  }
 ],
 "metadata": {
  "kernelspec": {
   "display_name": "env",
   "language": "python",
   "name": "python3"
  },
  "language_info": {
   "codemirror_mode": {
    "name": "ipython",
    "version": 3
   },
   "file_extension": ".py",
   "mimetype": "text/x-python",
   "name": "python",
   "nbconvert_exporter": "python",
   "pygments_lexer": "ipython3",
   "version": "3.12.0"
  }
 },
 "nbformat": 4,
 "nbformat_minor": 2
}
